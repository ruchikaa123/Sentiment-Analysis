{
 "cells": [
  {
   "cell_type": "code",
   "execution_count": 1,
   "metadata": {},
   "outputs": [],
   "source": [
    "import tweepy, re\n",
    "import pandas as pd\n",
    "import numpy as np\n",
    "from textblob import TextBlob\n",
    "import matplotlib.pyplot as plt\n",
    "from nltk.tokenize import word_tokenize\n",
    "from nltk.stem import WordNetLemmatizer\n",
    "from nltk.corpus import stopwords\n",
    "\n"
   ]
  },
  {
   "cell_type": "code",
   "execution_count": 2,
   "metadata": {},
   "outputs": [],
   "source": [
    "consumerKey = 'x2MdSLGUPi4Ya16ugbRo731dI'\n",
    "consumerSecret = 'qS5xLj43Ua1t0uAhEPw6ePRbPWmVm4LH9EHg7K0i60azV4TleF'\n",
    "accessToken ='1217144583156457472-HaIweQCL457klfi5VIGs4uGVgHaocF'\n",
    "accessTokenSecret = 'ehl7ouPSiDChvrKS59944ZBO25Vl9sqi0jJLPBucavR8Y'\n",
    "auth = tweepy.OAuthHandler(consumerKey, consumerSecret)\n",
    "auth.set_access_token(accessToken , accessTokenSecret)\n",
    "api = tweepy.API(auth)"
   ]
  },
  {
   "cell_type": "code",
   "execution_count": 3,
   "metadata": {},
   "outputs": [
    {
     "name": "stdout",
     "output_type": "stream",
     "text": [
      "enter the kerword to search about: bill gates\n",
      "enter how many tweets to search: 10\n"
     ]
    }
   ],
   "source": [
    "#input for term to be search and how many tweets to search\n",
    "\n",
    "searchTerm = input(\"enter the kerword to search about: \")\n",
    "NoOfTerms = int(input(\"enter how many tweets to search: \"))\n",
    "\n",
    "tweets = []\n",
    "tweetText = []\n",
    "#search for tweets\n",
    "tweets = tweepy.Cursor(api.search, q = searchTerm+\" -filter:retweets\", lang=\"en\").items(NoOfTerms)"
   ]
  },
  {
   "cell_type": "code",
   "execution_count": 4,
   "metadata": {},
   "outputs": [
    {
     "data": {
      "text/html": [
       "<div>\n",
       "<style scoped>\n",
       "    .dataframe tbody tr th:only-of-type {\n",
       "        vertical-align: middle;\n",
       "    }\n",
       "\n",
       "    .dataframe tbody tr th {\n",
       "        vertical-align: top;\n",
       "    }\n",
       "\n",
       "    .dataframe thead th {\n",
       "        text-align: right;\n",
       "    }\n",
       "</style>\n",
       "<table border=\"1\" class=\"dataframe\">\n",
       "  <thead>\n",
       "    <tr style=\"text-align: right;\">\n",
       "      <th></th>\n",
       "      <th>0</th>\n",
       "    </tr>\n",
       "  </thead>\n",
       "  <tbody>\n",
       "    <tr>\n",
       "      <th>0</th>\n",
       "      <td>@SpearsDwayne @waitina7 @kzshabazz even micros...</td>\n",
       "    </tr>\n",
       "    <tr>\n",
       "      <th>1</th>\n",
       "      <td>How this woman can sit there with her mate Bil...</td>\n",
       "    </tr>\n",
       "    <tr>\n",
       "      <th>2</th>\n",
       "      <td>@oyinlad @theonly1acre Nope. Was Dangote’s dau...</td>\n",
       "    </tr>\n",
       "    <tr>\n",
       "      <th>3</th>\n",
       "      <td>System is unfair and the rich take advantage o...</td>\n",
       "    </tr>\n",
       "    <tr>\n",
       "      <th>4</th>\n",
       "      <td>at the beginning of this November (flu season)...</td>\n",
       "    </tr>\n",
       "    <tr>\n",
       "      <th>5</th>\n",
       "      <td>@agoodsamaritan2 @MrMenApocalypse @AnitaBart4 ...</td>\n",
       "    </tr>\n",
       "    <tr>\n",
       "      <th>6</th>\n",
       "      <td>How do I report this to Bill Gates? #Depopulat...</td>\n",
       "    </tr>\n",
       "    <tr>\n",
       "      <th>7</th>\n",
       "      <td>@thehill In the industry of the United States ...</td>\n",
       "    </tr>\n",
       "    <tr>\n",
       "      <th>8</th>\n",
       "      <td>@elcine19 @jdawsey1 I'm following the science....</td>\n",
       "    </tr>\n",
       "    <tr>\n",
       "      <th>9</th>\n",
       "      <td>**WTF!! How'd People Miss THIS During Bill Gat...</td>\n",
       "    </tr>\n",
       "  </tbody>\n",
       "</table>\n",
       "</div>"
      ],
      "text/plain": [
       "                                                   0\n",
       "0  @SpearsDwayne @waitina7 @kzshabazz even micros...\n",
       "1  How this woman can sit there with her mate Bil...\n",
       "2  @oyinlad @theonly1acre Nope. Was Dangote’s dau...\n",
       "3  System is unfair and the rich take advantage o...\n",
       "4  at the beginning of this November (flu season)...\n",
       "5  @agoodsamaritan2 @MrMenApocalypse @AnitaBart4 ...\n",
       "6  How do I report this to Bill Gates? #Depopulat...\n",
       "7  @thehill In the industry of the United States ...\n",
       "8  @elcine19 @jdawsey1 I'm following the science....\n",
       "9  **WTF!! How'd People Miss THIS During Bill Gat..."
      ]
     },
     "execution_count": 4,
     "metadata": {},
     "output_type": "execute_result"
    }
   ],
   "source": [
    "tweet_list = [tweet.text for tweet in tweets]\n",
    "tweet_df = pd.DataFrame(tweet_list)\n",
    "tweet_df"
   ]
  },
  {
   "cell_type": "code",
   "execution_count": 5,
   "metadata": {},
   "outputs": [
    {
     "data": {
      "text/plain": [
       "(10, 1)"
      ]
     },
     "execution_count": 5,
     "metadata": {},
     "output_type": "execute_result"
    }
   ],
   "source": [
    "tweet_df.shape"
   ]
  },
  {
   "cell_type": "markdown",
   "metadata": {},
   "source": [
    "# cleaning data"
   ]
  },
  {
   "cell_type": "code",
   "execution_count": 6,
   "metadata": {},
   "outputs": [],
   "source": [
    "def clean_data(text):\n",
    "    return ' '.join(re.sub(\"(@[a-zA-Z0-9]+)|([^0-9A-Za-z])|(https://[\\w.]+/[\\w]+)\",\" \",text).split())\n",
    "\n",
    "tweet_df['cleaned_data'] = tweet_df[0].apply(clean_data)"
   ]
  },
  {
   "cell_type": "code",
   "execution_count": 7,
   "metadata": {},
   "outputs": [
    {
     "data": {
      "text/html": [
       "<div>\n",
       "<style scoped>\n",
       "    .dataframe tbody tr th:only-of-type {\n",
       "        vertical-align: middle;\n",
       "    }\n",
       "\n",
       "    .dataframe tbody tr th {\n",
       "        vertical-align: top;\n",
       "    }\n",
       "\n",
       "    .dataframe thead th {\n",
       "        text-align: right;\n",
       "    }\n",
       "</style>\n",
       "<table border=\"1\" class=\"dataframe\">\n",
       "  <thead>\n",
       "    <tr style=\"text-align: right;\">\n",
       "      <th></th>\n",
       "      <th>0</th>\n",
       "      <th>cleaned_data</th>\n",
       "    </tr>\n",
       "  </thead>\n",
       "  <tbody>\n",
       "    <tr>\n",
       "      <th>0</th>\n",
       "      <td>@SpearsDwayne @waitina7 @kzshabazz even micros...</td>\n",
       "      <td>even microsoft bill gates amp microsoft got ri...</td>\n",
       "    </tr>\n",
       "    <tr>\n",
       "      <th>1</th>\n",
       "      <td>How this woman can sit there with her mate Bil...</td>\n",
       "      <td>How this woman can sit there with her mate Bil...</td>\n",
       "    </tr>\n",
       "    <tr>\n",
       "      <th>2</th>\n",
       "      <td>@oyinlad @theonly1acre Nope. Was Dangote’s dau...</td>\n",
       "      <td>Nope Was Dangote s daughter s wedding Bill Gat...</td>\n",
       "    </tr>\n",
       "    <tr>\n",
       "      <th>3</th>\n",
       "      <td>System is unfair and the rich take advantage o...</td>\n",
       "      <td>System is unfair and the rich take advantage o...</td>\n",
       "    </tr>\n",
       "    <tr>\n",
       "      <th>4</th>\n",
       "      <td>at the beginning of this November (flu season)...</td>\n",
       "      <td>at the beginning of this November flu season B...</td>\n",
       "    </tr>\n",
       "  </tbody>\n",
       "</table>\n",
       "</div>"
      ],
      "text/plain": [
       "                                                   0  \\\n",
       "0  @SpearsDwayne @waitina7 @kzshabazz even micros...   \n",
       "1  How this woman can sit there with her mate Bil...   \n",
       "2  @oyinlad @theonly1acre Nope. Was Dangote’s dau...   \n",
       "3  System is unfair and the rich take advantage o...   \n",
       "4  at the beginning of this November (flu season)...   \n",
       "\n",
       "                                        cleaned_data  \n",
       "0  even microsoft bill gates amp microsoft got ri...  \n",
       "1  How this woman can sit there with her mate Bil...  \n",
       "2  Nope Was Dangote s daughter s wedding Bill Gat...  \n",
       "3  System is unfair and the rich take advantage o...  \n",
       "4  at the beginning of this November flu season B...  "
      ]
     },
     "execution_count": 7,
     "metadata": {},
     "output_type": "execute_result"
    }
   ],
   "source": [
    "tweet_df.head()"
   ]
  },
  {
   "cell_type": "code",
   "execution_count": 8,
   "metadata": {},
   "outputs": [],
   "source": [
    "def drop_numbers(list_text):\n",
    "    list_text_new = []\n",
    "    for i in list_text:\n",
    "        if not re.search('\\d',i):\n",
    "            list_text_new.append(i)\n",
    "    return ''.join(list_text_new)\n",
    "tweet_df['cleaned_data'] = tweet_df['cleaned_data'].apply(drop_numbers)"
   ]
  },
  {
   "cell_type": "code",
   "execution_count": 9,
   "metadata": {},
   "outputs": [
    {
     "data": {
      "text/html": [
       "<div>\n",
       "<style scoped>\n",
       "    .dataframe tbody tr th:only-of-type {\n",
       "        vertical-align: middle;\n",
       "    }\n",
       "\n",
       "    .dataframe tbody tr th {\n",
       "        vertical-align: top;\n",
       "    }\n",
       "\n",
       "    .dataframe thead th {\n",
       "        text-align: right;\n",
       "    }\n",
       "</style>\n",
       "<table border=\"1\" class=\"dataframe\">\n",
       "  <thead>\n",
       "    <tr style=\"text-align: right;\">\n",
       "      <th></th>\n",
       "      <th>0</th>\n",
       "      <th>cleaned_data</th>\n",
       "    </tr>\n",
       "  </thead>\n",
       "  <tbody>\n",
       "    <tr>\n",
       "      <th>0</th>\n",
       "      <td>@SpearsDwayne @waitina7 @kzshabazz even micros...</td>\n",
       "      <td>even microsoft bill gates amp microsoft got ri...</td>\n",
       "    </tr>\n",
       "    <tr>\n",
       "      <th>1</th>\n",
       "      <td>How this woman can sit there with her mate Bil...</td>\n",
       "      <td>How this woman can sit there with her mate Bil...</td>\n",
       "    </tr>\n",
       "    <tr>\n",
       "      <th>2</th>\n",
       "      <td>@oyinlad @theonly1acre Nope. Was Dangote’s dau...</td>\n",
       "      <td>Nope Was Dangote s daughter s wedding Bill Gat...</td>\n",
       "    </tr>\n",
       "    <tr>\n",
       "      <th>3</th>\n",
       "      <td>System is unfair and the rich take advantage o...</td>\n",
       "      <td>System is unfair and the rich take advantage o...</td>\n",
       "    </tr>\n",
       "    <tr>\n",
       "      <th>4</th>\n",
       "      <td>at the beginning of this November (flu season)...</td>\n",
       "      <td>at the beginning of this November flu season B...</td>\n",
       "    </tr>\n",
       "  </tbody>\n",
       "</table>\n",
       "</div>"
      ],
      "text/plain": [
       "                                                   0  \\\n",
       "0  @SpearsDwayne @waitina7 @kzshabazz even micros...   \n",
       "1  How this woman can sit there with her mate Bil...   \n",
       "2  @oyinlad @theonly1acre Nope. Was Dangote’s dau...   \n",
       "3  System is unfair and the rich take advantage o...   \n",
       "4  at the beginning of this November (flu season)...   \n",
       "\n",
       "                                        cleaned_data  \n",
       "0  even microsoft bill gates amp microsoft got ri...  \n",
       "1  How this woman can sit there with her mate Bil...  \n",
       "2  Nope Was Dangote s daughter s wedding Bill Gat...  \n",
       "3  System is unfair and the rich take advantage o...  \n",
       "4  at the beginning of this November flu season B...  "
      ]
     },
     "execution_count": 9,
     "metadata": {},
     "output_type": "execute_result"
    }
   ],
   "source": [
    "tweet_df.head()"
   ]
  },
  {
   "cell_type": "code",
   "execution_count": 10,
   "metadata": {},
   "outputs": [],
   "source": [
    "#changing all the words of the reviews column to lowercase letters\n",
    "\n",
    "def lower_case(text):\n",
    "    text_words = word_tokenize(text)\n",
    "    text_words_lower = [x.lower() for x in text_words]\n",
    "    return ' '.join(text_words_lower)\n",
    "\n",
    "tweet_df['cleaned_data'] = tweet_df['cleaned_data'].apply(lower_case)\n",
    "                                                         "
   ]
  },
  {
   "cell_type": "code",
   "execution_count": 11,
   "metadata": {},
   "outputs": [
    {
     "name": "stderr",
     "output_type": "stream",
     "text": [
      "[nltk_data] Downloading package wordnet to\n",
      "[nltk_data]     C:\\Users\\Dell\\AppData\\Roaming\\nltk_data...\n",
      "[nltk_data]   Package wordnet is already up-to-date!\n"
     ]
    },
    {
     "data": {
      "text/plain": [
       "True"
      ]
     },
     "execution_count": 11,
     "metadata": {},
     "output_type": "execute_result"
    }
   ],
   "source": [
    "import nltk\n",
    "nltk.download('wordnet')"
   ]
  },
  {
   "cell_type": "code",
   "execution_count": 12,
   "metadata": {},
   "outputs": [],
   "source": [
    "lemmatizer = WordNetLemmatizer()\n",
    "def lemmatise(text):\n",
    "    text_tokens = word_tokenize(text)\n",
    "    text_lemm = [lemmatizer.lemmatize(word) for word in text_tokens]\n",
    "    return ' '.join(text_lemm)\n",
    "tweet_df['cleaned_data'] = tweet_df['cleaned_data'].apply(lemmatise)"
   ]
  },
  {
   "cell_type": "code",
   "execution_count": 13,
   "metadata": {},
   "outputs": [
    {
     "data": {
      "text/plain": [
       "array(['even microsoft bill gate amp microsoft got rich mostly from selling their softw',\n",
       "       'how this woman can sit there with her mate bill gate and talk about welfare and people mental health while ke',\n",
       "       'nope wa dangote s daughter s wedding bill gate wa in attendance',\n",
       "       'system is unfair and the rich take advantage of it destroying the system would turn the rich into outcast and tha',\n",
       "       'at the beginning of this november flu season bill gate will turn year day old amp the church of satan will',\n",
       "       'regarding example they are everywhere pretty much e',\n",
       "       'how do i report this to bill gate depopulationagenda',\n",
       "       'in the industry of the united state of america we have had bill gate state we have to hire out of other',\n",
       "       'i m following the science you can go ahead ignoring it you re a free to do that a people',\n",
       "       'wtf how d people miss this during bill gate cnn interview via gate lying a'],\n",
       "      dtype=object)"
      ]
     },
     "execution_count": 13,
     "metadata": {},
     "output_type": "execute_result"
    }
   ],
   "source": [
    "tweet_df['cleaned_data'].values"
   ]
  },
  {
   "cell_type": "code",
   "execution_count": 14,
   "metadata": {},
   "outputs": [],
   "source": [
    "def remove_stopword(text):\n",
    "    text_tokens = word_tokenize(text)\n",
    "    tokens = [word for word in text_tokens if not word in set(stopwords.words('english'))]\n",
    "    tokens_text = ' '.join(tokens)\n",
    "    return tokens_text\n",
    "tweet_df['cleaned_data'] = tweet_df['cleaned_data'].apply(remove_stopword)"
   ]
  },
  {
   "cell_type": "code",
   "execution_count": 15,
   "metadata": {},
   "outputs": [
    {
     "data": {
      "text/plain": [
       "array(['even microsoft bill gate amp microsoft got rich mostly selling softw',\n",
       "       'woman sit mate bill gate talk welfare people mental health ke',\n",
       "       'nope wa dangote daughter wedding bill gate wa attendance',\n",
       "       'system unfair rich take advantage destroying system would turn rich outcast tha',\n",
       "       'beginning november flu season bill gate turn year day old amp church satan',\n",
       "       'regarding example everywhere pretty much e',\n",
       "       'report bill gate depopulationagenda',\n",
       "       'industry united state america bill gate state hire',\n",
       "       'following science go ahead ignoring free people',\n",
       "       'wtf people miss bill gate cnn interview via gate lying'],\n",
       "      dtype=object)"
      ]
     },
     "execution_count": 15,
     "metadata": {},
     "output_type": "execute_result"
    }
   ],
   "source": [
    "tweet_df['cleaned_data'].values"
   ]
  },
  {
   "cell_type": "markdown",
   "metadata": {},
   "source": [
    "# creating sentiment Analyzer engine"
   ]
  },
  {
   "cell_type": "code",
   "execution_count": 16,
   "metadata": {},
   "outputs": [],
   "source": [
    " #calculate the polarity of the reviews\n",
    "\n",
    "def get_polarity(text):\n",
    "    textblob = TextBlob(str(text))\n",
    "    pol = textblob.sentiment.polarity\n",
    "    if(pol==0):\n",
    "        return \"nuetral\"\n",
    "    elif(pol>0 and pol<0.3):\n",
    "        return \"weakly positive\"\n",
    "    elif(pol>0 and pol<=1):\n",
    "        return \"positive\"\n",
    "    elif(pol>0.6 and plo<=1):\n",
    "        return \"strongly positive\"\n",
    "    elif(pol>-0.3 and pol<=0):\n",
    "        return \"weakly negative\"\n",
    "    elif(pol>-0.6 and pol<=-0.3):\n",
    "        return \"negative\"\n",
    "    elif(pol>-1 and pol<=-0.6):\n",
    "        return \"strongly negative\"\n",
    "    \n",
    "tweet_df['polarity'] = tweet_df['cleaned_data'].apply(get_polarity)\n",
    "        "
   ]
  },
  {
   "cell_type": "code",
   "execution_count": 17,
   "metadata": {},
   "outputs": [
    {
     "data": {
      "text/plain": [
       "weakly positive    4\n",
       "nuetral            3\n",
       "positive           1\n",
       "negative           1\n",
       "weakly negative    1\n",
       "Name: polarity, dtype: int64"
      ]
     },
     "execution_count": 17,
     "metadata": {},
     "output_type": "execute_result"
    }
   ],
   "source": [
    "tweet_df['polarity'].value_counts()"
   ]
  },
  {
   "cell_type": "code",
   "execution_count": 22,
   "metadata": {},
   "outputs": [],
   "source": [
    "neutral = 0\n",
    "wpositive = 0\n",
    "spositive = 0\n",
    "positive = 0\n",
    "negative = 0\n",
    "wnegative = 0\n",
    "snegative = 0\n",
    "polarity = 0\n",
    "\n",
    "for i in range(0,10):\n",
    "    textblob = TextBlob(str(tweet_df['cleaned_data'][i]))\n",
    "    polarity+= textblob.sentiment.polarity\n",
    "    pol = textblob.sentiment.polarity\n",
    "    if (pol == 0):  # adding reaction of how people are reacting to find average later\n",
    "        neutral += 1\n",
    "    elif (pol > 0 and pol <= 0.3):\n",
    "        wpositive += 1\n",
    "    elif (pol > 0.3 and pol <= 0.6):\n",
    "        positive += 1\n",
    "    elif (pol > 0.6 and pol <= 1):\n",
    "        spositive += 1\n",
    "    elif (pol > -0.3 and pol <= 0):\n",
    "        wnegative += 1\n",
    "    elif (pol > -0.6 and pol <= -0.3):\n",
    "        negative += 1\n",
    "    elif (pol > -1 and pol <= -0.6):\n",
    "        snegative += 1"
   ]
  },
  {
   "cell_type": "code",
   "execution_count": 23,
   "metadata": {},
   "outputs": [
    {
     "data": {
      "text/plain": [
       "0.0375"
      ]
     },
     "execution_count": 23,
     "metadata": {},
     "output_type": "execute_result"
    }
   ],
   "source": [
    "#finding average reaction\n",
    "\n",
    "polarity = polarity / NoOfTerms\n",
    "polarity"
   ]
  },
  {
   "cell_type": "code",
   "execution_count": 26,
   "metadata": {},
   "outputs": [],
   "source": [
    "def percentage(part, whole):\n",
    "    temp = 100 * float(part) / float(whole)\n",
    "    return format(temp, '.2f')"
   ]
  },
  {
   "cell_type": "code",
   "execution_count": 27,
   "metadata": {},
   "outputs": [],
   "source": [
    " # finding average of how people are reacting\n",
    "positive = percentage(positive, NoOfTerms)\n",
    "wpositive = percentage(wpositive, NoOfTerms)\n",
    "spositive = percentage(spositive, NoOfTerms)\n",
    "negative = percentage(negative, NoOfTerms)\n",
    "wnegative = percentage(wnegative, NoOfTerms)\n",
    "snegative = percentage(snegative, NoOfTerms)\n",
    "neutral = percentage(neutral, NoOfTerms)"
   ]
  },
  {
   "cell_type": "markdown",
   "metadata": {},
   "source": [
    "# visualizing the results\n"
   ]
  },
  {
   "cell_type": "code",
   "execution_count": 28,
   "metadata": {},
   "outputs": [
    {
     "name": "stdout",
     "output_type": "stream",
     "text": [
      "How people are reacting on bill gates by analyzing 10 tweets.\n",
      "\n",
      "-----------------------------------------------------------------------------------------\n",
      "\n",
      "General Report: \n",
      "Weakly Positive\n",
      "\n",
      "------------------------------------------------------------------------------------------\n",
      "\n",
      "Detailed Report: \n",
      "100.00% people thought it was positive\n",
      "400.00% people thought it was weakly positive\n",
      "0.00% people thought it was strongly positive\n",
      "100.00% people thought it was negative\n",
      "100.00% people thought it was weakly negative\n",
      "0.00% people thought it was strongly negative\n",
      "300.00% people thought it was neutral\n"
     ]
    }
   ],
   "source": [
    " # printing out data\n",
    "print(\"How people are reacting on \" + searchTerm + \" by analyzing \" + str(NoOfTerms) + \" tweets.\")\n",
    "print()\n",
    "print(\"-----------------------------------------------------------------------------------------\")\n",
    "print()\n",
    "print(\"General Report: \")\n",
    "\n",
    "if (polarity == 0):\n",
    "    print(\"Neutral\")\n",
    "elif (polarity > 0 and polarity <= 0.3):\n",
    "    print(\"Weakly Positive\")\n",
    "elif (polarity > 0.3 and polarity <= 0.6):\n",
    "    print(\"Positive\")\n",
    "elif (polarity > 0.6 and polarity <= 1):\n",
    "    print(\"Strongly Positive\")\n",
    "elif (polarity > -0.3 and polarity <= 0):\n",
    "    print(\"Weakly Negative\")\n",
    "elif (polarity > -0.6 and polarity <= -0.3):\n",
    "    print(\"Negative\")\n",
    "elif (polarity > -1 and polarity <= -0.6):\n",
    "    print(\"Strongly Negative\")\n",
    "\n",
    "print()\n",
    "print(\"------------------------------------------------------------------------------------------\")\n",
    "print()\n",
    "print(\"Detailed Report: \")\n",
    "print(str(positive) + \"% people thought it was positive\")\n",
    "print(str(wpositive) + \"% people thought it was weakly positive\")\n",
    "print(str(spositive) + \"% people thought it was strongly positive\")\n",
    "print(str(negative) + \"% people thought it was negative\")\n",
    "print(str(wnegative) + \"% people thought it was weakly negative\")\n",
    "print(str(snegative) + \"% people thought it was strongly negative\")\n",
    "print(str(neutral) + \"% people thought it was neutral\")"
   ]
  },
  {
   "cell_type": "code",
   "execution_count": 29,
   "metadata": {},
   "outputs": [],
   "source": [
    "sizes = [positive, wpositive, spositive, neutral, negative, wnegative, snegative]\n",
    "colors = ['yellowgreen','lightgreen','darkgreen', 'gold', 'red','lightsalmon','darkred']\n",
    "labels = ['Positive [' + str(positive) + '%]', 'Weakly Positive [' + str(wpositive) + '%]',\n",
    "          'Strongly Positive [' + str(spositive) + '%]', 'Neutral [' + str(neutral) + '%]',\n",
    "          'Negative [' + str(negative) + '%]', 'Weakly Negative [' + str(wnegative) + '%]', \n",
    "          'Strongly Negative [' + str(snegative) + '%]']"
   ]
  },
  {
   "cell_type": "code",
   "execution_count": 30,
   "metadata": {},
   "outputs": [
    {
     "data": {
      "image/png": "[encoded data removed]",
      "text/plain": [
       "<Figure size 432x288 with 1 Axes>"
      ]
     },
     "metadata": {},
     "output_type": "display_data"
    }
   ],
   "source": [
    "plt.pie(sizes, labels = labels, colors = colors)\n",
    "plt.legend(labels, loc=\"best\")\n",
    "plt.title('How people are reacting on ' + searchTerm + ' by analyzing ' + str(NoOfTerms) + ' Tweets.')\n",
    "plt.axis('equal')\n",
    "plt.tight_layout()\n",
    "plt.show()"
   ]
  },
  {
   "cell_type": "code",
   "execution_count": null,
   "metadata": {},
   "outputs": [],
   "source": []
  },
  {
   "cell_type": "code",
   "execution_count": null,
   "metadata": {},
   "outputs": [],
   "source": []
  }
 ],
 "metadata": {
  "kernelspec": {
   "display_name": "Python 3",
   "language": "python",
   "name": "python3"
  },
  "language_info": {
   "codemirror_mode": {
    "name": "ipython",
    "version": 3
   },
   "file_extension": ".py",
   "mimetype": "text/x-python",
   "name": "python",
   "nbconvert_exporter": "python",
   "pygments_lexer": "ipython3",
   "version": "3.8.5"
  }
 },
 "nbformat": 4,
 "nbformat_minor": 4
}
